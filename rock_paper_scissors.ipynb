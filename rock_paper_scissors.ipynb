{
  "nbformat": 4,
  "nbformat_minor": 0,
  "metadata": {
    "colab": {
      "provenance": [],
      "authorship_tag": "ABX9TyNky1KJPV8Ocuo6LSyaSEEb",
      "include_colab_link": true
    },
    "kernelspec": {
      "name": "python3",
      "display_name": "Python 3"
    },
    "language_info": {
      "name": "python"
    }
  },
  "cells": [
    {
      "cell_type": "markdown",
      "metadata": {
        "id": "view-in-github",
        "colab_type": "text"
      },
      "source": [
        "<a href=\"https://colab.research.google.com/github/chimaCSC102/tic-commits/blob/main/rock_paper_scissors.ipynb\" target=\"_parent\"><img src=\"https://colab.research.google.com/assets/colab-badge.svg\" alt=\"Open In Colab\"/></a>"
      ]
    },
    {
      "cell_type": "code",
      "execution_count": 3,
      "metadata": {
        "colab": {
          "base_uri": "https://localhost:8080/"
        },
        "id": "fozAKhemWuz3",
        "outputId": "5b0044bf-6d0f-4243-d8b0-d4255663b231"
      },
      "outputs": [
        {
          "output_type": "stream",
          "name": "stdout",
          "text": [
            "Welcome to the rock-paper-scissors game!\n",
            "               ...The game never gets old. \n",
            "Loading...\n",
            "Here are the rules;\n",
            "- Rock beats scissors\n",
            "- Scissors beat paper\n",
            "- Paper beats rock\n",
            "Enter your name: Chima\n",
            "Hi Chima!\n",
            "Your turn: a\n",
            "a is not a valid choice\n",
            "Choose between R,P,S\n",
            "Your turn: r\n",
            "Computers turn: p \n",
            "Computer wins!\n",
            "Enter any value to end\n",
            "Enter (1) to continue: 1\n",
            "Your turn: S\n",
            "Computers turn: r \n",
            "Computer wins!\n",
            "Enter any value to end\n",
            "Enter (1) to continue: 0927381\n",
            "See you later Chima!\n"
          ]
        }
      ],
      "source": [
        "#rock-paper-scissors game\n",
        "\n",
        "#figures choice gives string, choices gives list\n",
        "import os\n",
        "import time\n",
        "import random\n",
        "import string\n",
        "\n",
        "\n",
        "print(\"Welcome to the rock-paper-scissors game!\\n               ...The game never gets old. \")\n",
        "print(\"Loading...\")\n",
        "time.sleep(6)\n",
        "\n",
        "print(\"Here are the rules;\\n- Rock beats scissors\\n- Scissors beat paper\\n- Paper beats rock\")\n",
        "\n",
        "valid_choices = ['r','p','s']\n",
        "\n",
        "name = input(\"Enter your name: \")\n",
        "print(f\"Hi {name}!\")\n",
        "\n",
        "\n",
        "while True:\n",
        "  #computer and user input\n",
        "  user_choice = input(\"Your turn: \")\n",
        "  user_choice = user_choice.lower()\n",
        "\n",
        "  if user_choice in valid_choices:\n",
        "    computers_choice = random.choice(valid_choices)\n",
        "    print(f\"Computers turn: {computers_choice} \")\n",
        "\n",
        "    #choice comparison\n",
        "    if user_choice == computers_choice:\n",
        "      print(\"Woah, what a tie!\")\n",
        "    \n",
        "    elif user_choice == \"r\" and computers_choice == \"s\":\n",
        "      print(\"User wins!\")\n",
        "    \n",
        "    elif user_choice == \"p\" and computers_choice == \"r\":\n",
        "      print(\"User wins!\")\n",
        "\n",
        "    elif user_choice == \"s\" and computers_choice == \"p\":\n",
        "      print(\"User wins!\")\n",
        "\n",
        "    elif user_choice == \"r\" and computers_choice == \"p\":\n",
        "      print(\"Computer wins!\")\n",
        "    \n",
        "    elif user_choice == \"p\" and computers_choice == \"s\":\n",
        "      print(\"Computer wins!\")\n",
        "    \n",
        "    elif user_choice == \"s\" and computers_choice == \"r\":\n",
        "      print(\"Computer wins!\")\n",
        "\n",
        "\n",
        "    #exit function \n",
        "    cont_exit = int(input(\"Enter any value to end\\nEnter (1) to continue: \"))\n",
        "\n",
        "    if cont_exit == 1:\n",
        "       continue\n",
        "    else:\n",
        "       print(f\"See you later {name}!\")\n",
        "       break\n",
        "    \n",
        "  else:\n",
        "    print(f\"{user_choice} is not a valid choice\\nChoose between R,P,S\")\n",
        "    continue\n",
        "\n",
        "\n"
      ]
    },
    {
      "cell_type": "code",
      "source": [],
      "metadata": {
        "id": "wscxh5fsYFQ5"
      },
      "execution_count": 1,
      "outputs": []
    },
    {
      "cell_type": "code",
      "source": [],
      "metadata": {
        "id": "6j7ESYjxrzNB"
      },
      "execution_count": 29,
      "outputs": []
    }
  ]
}